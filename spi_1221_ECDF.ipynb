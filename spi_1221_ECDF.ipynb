{
 "cells": [
  {
   "cell_type": "code",
   "execution_count": 2,
   "metadata": {},
   "outputs": [],
   "source": [
    "import numpy as np\n",
    "import pandas as pd\n",
    "url = 'https://projects.fivethirtyeight.com/soccer-api/club/spi_matches.csv'\n",
    "df = pd.read_csv(url, parse_dates=['date']).dropna()\n",
    "df = df[(df.league=='Barclays Premier League') & (df.season <= 2019)].reset_index(drop=True)\n",
    "df['margin'] = np.abs(df['score1'] - df['score2'])\n",
    "df['home_margin'] = df['score1'] - df['score2']\n",
    "results = []\n",
    "for result in df['home_margin']:\n",
    "    if result > 0:\n",
    "        results.append(\"Home Win\")\n",
    "    elif result < 0:\n",
    "        results.append(\"Away Win\")\n",
    "    else:\n",
    "        results.append(\"Draw\")\n",
    "results = pd.Series(results).to_frame().rename(columns={0:'result'}).reset_index(drop=True)\n",
    "df = pd.concat([df, results], axis=1)"
   ]
  },
  {
   "cell_type": "code",
   "execution_count": 3,
   "metadata": {},
   "outputs": [],
   "source": [
    "def ECDF(data):\n",
    "    n = len(data)\n",
    "    X = np.sort(data)\n",
    "    y = np.arange(1, (n)+1) / n\n",
    "    return X, y"
   ]
  },
  {
   "cell_type": "code",
   "execution_count": 4,
   "metadata": {},
   "outputs": [],
   "source": [
    "X, y = ECDF(df['score1'])\n",
    "X_spi, y_spi = ECDF(df['spi1'])"
   ]
  },
  {
   "cell_type": "code",
   "execution_count": 5,
   "metadata": {},
   "outputs": [
    {
     "data": {
      "image/png": "[encoded data removed]",
      "text/plain": [
       "<Figure size 432x288 with 1 Axes>"
      ]
     },
     "metadata": {
      "needs_background": "light"
     },
     "output_type": "display_data"
    }
   ],
   "source": [
    "import matplotlib.pyplot as plt\n",
    "%matplotlib inline\n",
    "plt.plot(X, y, marker='o', linestyle='none', label=\"Home Goals\")\n",
    "plt.xlabel(\"Goals\")\n",
    "plt.ylabel(\"ECDF\")\n",
    "plt.title(\"PL 2016-20 - ECDF - Home Score\")\n",
    "plt.legend()\n",
    "plt.show()"
   ]
  },
  {
   "cell_type": "code",
   "execution_count": 6,
   "metadata": {},
   "outputs": [
    {
     "data": {
      "image/png": "[encoded data removed]",
      "text/plain": [
       "<Figure size 432x288 with 1 Axes>"
      ]
     },
     "metadata": {
      "needs_background": "light"
     },
     "output_type": "display_data"
    }
   ],
   "source": [
    "plt.plot(X_spi, y_spi, marker=\".\", linestyle='none', label='Home SPI')\n",
    "plt.title(\"PL 2016-20 - ECDF - SPI Home Team\")\n",
    "plt.xlabel(\"Rating\")\n",
    "plt.ylabel(\"ECDF\")\n",
    "plt.show()"
   ]
  },
  {
   "cell_type": "code",
   "execution_count": 7,
   "metadata": {},
   "outputs": [
    {
     "name": "stdout",
     "output_type": "stream",
     "text": [
      "BNB: 1.000000 (0.000000)\n",
      "GNB: 0.755832 (0.039054)\n",
      "DTC: 1.000000 (0.000000)\n",
      "ETC: 1.000000 (0.000000)\n",
      "RFC: 1.000000 (0.000000)\n",
      "LR: 1.000000 (0.000000)\n"
     ]
    }
   ],
   "source": [
    "from sklearn.model_selection import train_test_split, StratifiedKFold, cross_val_score\n",
    "from sklearn.metrics import accuracy_score, classification_report, confusion_matrix\n",
    "from CTN import CN, CTN\n",
    "from sklearn.naive_bayes import BernoulliNB, GaussianNB\n",
    "from sklearn.tree import DecisionTreeClassifier\n",
    "from sklearn.ensemble import ExtraTreesClassifier, RandomForestClassifier\n",
    "from sklearn.linear_model import LogisticRegression\n",
    "\n",
    "# Team Categorical to Numerical Conversion\n",
    "t1 = CN(df,\"team1\")\n",
    "t2 = CN(df,\"team2\")\n",
    "team1 = CTN(df,4,5,t1)\n",
    "team2 = CTN(df,5,6,t2)\n",
    "\n",
    "# Bringing it all together\n",
    "X_num = df[['spi1', 'spi2', 'prob1', 'prob2', 'probtie', 'proj_score1', 'proj_score2', 'importance1', 'importance2', 'score1', 'score2', 'xg1', 'xg2', 'nsxg1', 'nsxg2', 'adj_score1', 'adj_score2', 'margin', 'home_margin']].reset_index(drop=True)\n",
    "X_final = pd.concat([team1, team2, X_num], axis=1)\n",
    "y_final = df[['result']].copy()\n",
    "X_train, X_test, y_train, y_test = train_test_split(X_final, y_final, test_size=0.375, random_state=6)\n",
    "\n",
    "# Model evaluation and selection\n",
    "models = []\n",
    "models.append(('BNB:', BernoulliNB()))\n",
    "models.append(('GNB:', GaussianNB()))\n",
    "models.append(('DTC:', DecisionTreeClassifier()))\n",
    "models.append(('ETC:', ExtraTreesClassifier()))\n",
    "models.append(('RFC:', RandomForestClassifier()))\n",
    "models.append(('LR:', LogisticRegression(solver='liblinear', multi_class='ovr')))\n",
    "names = []\n",
    "results = []\n",
    "for name, model in models:\n",
    "    kfold = StratifiedKFold(n_splits=10, random_state=6, shuffle=True)\n",
    "    cv_results = cross_val_score(model, X_train, y_train.values.ravel(), cv=kfold, scoring='accuracy')\n",
    "    names.append(name)\n",
    "    results.append(cv_results)\n",
    "    print(\"%s %f (%f)\" % (name, cv_results.mean(), cv_results.std()))"
   ]
  },
  {
   "cell_type": "code",
   "execution_count": 8,
   "metadata": {},
   "outputs": [
    {
     "name": "stdout",
     "output_type": "stream",
     "text": [
      "Accuracy Score: 1.0\n",
      "Classification Report:               precision    recall  f1-score   support\n",
      "\n",
      "    Away Win       1.00      1.00      1.00       168\n",
      "        Draw       1.00      1.00      1.00       128\n",
      "    Home Win       1.00      1.00      1.00       261\n",
      "\n",
      "    accuracy                           1.00       557\n",
      "   macro avg       1.00      1.00      1.00       557\n",
      "weighted avg       1.00      1.00      1.00       557\n",
      "\n",
      "Confusion Matrix: [[168   0   0]\n",
      " [  0 128   0]\n",
      " [  0   0 261]]\n"
     ]
    }
   ],
   "source": [
    "model = RandomForestClassifier(n_estimators=400, random_state=6).fit(X_train, y_train.values.ravel())\n",
    "y_test_predictions = model.predict(X_test)\n",
    "print(\"Accuracy Score:\", accuracy_score(y_test_predictions, y_test))\n",
    "print(\"Classification Report:\", classification_report(y_test_predictions, y_test))\n",
    "print(\"Confusion Matrix:\", confusion_matrix(y_test_predictions, y_test))"
   ]
  },
  {
   "cell_type": "code",
   "execution_count": 9,
   "metadata": {},
   "outputs": [],
   "source": [
    "from PvA import PvA\n",
    "PvA = PvA(y_test_predictions, y_test)"
   ]
  },
  {
   "cell_type": "code",
   "execution_count": 10,
   "metadata": {},
   "outputs": [
    {
     "data": {
      "text/html": [
       "<div>\n",
       "<style scoped>\n",
       "    .dataframe tbody tr th:only-of-type {\n",
       "        vertical-align: middle;\n",
       "    }\n",
       "\n",
       "    .dataframe tbody tr th {\n",
       "        vertical-align: top;\n",
       "    }\n",
       "\n",
       "    .dataframe thead th {\n",
       "        text-align: right;\n",
       "    }\n",
       "</style>\n",
       "<table border=\"1\" class=\"dataframe\">\n",
       "  <thead>\n",
       "    <tr style=\"text-align: right;\">\n",
       "      <th></th>\n",
       "      <th>Predicted</th>\n",
       "      <th>Actual</th>\n",
       "    </tr>\n",
       "  </thead>\n",
       "  <tbody>\n",
       "    <tr>\n",
       "      <th>0</th>\n",
       "      <td>Draw</td>\n",
       "      <td>Draw</td>\n",
       "    </tr>\n",
       "    <tr>\n",
       "      <th>1</th>\n",
       "      <td>Away Win</td>\n",
       "      <td>Away Win</td>\n",
       "    </tr>\n",
       "    <tr>\n",
       "      <th>2</th>\n",
       "      <td>Draw</td>\n",
       "      <td>Draw</td>\n",
       "    </tr>\n",
       "    <tr>\n",
       "      <th>3</th>\n",
       "      <td>Home Win</td>\n",
       "      <td>Home Win</td>\n",
       "    </tr>\n",
       "    <tr>\n",
       "      <th>4</th>\n",
       "      <td>Draw</td>\n",
       "      <td>Draw</td>\n",
       "    </tr>\n",
       "    <tr>\n",
       "      <th>...</th>\n",
       "      <td>...</td>\n",
       "      <td>...</td>\n",
       "    </tr>\n",
       "    <tr>\n",
       "      <th>552</th>\n",
       "      <td>Home Win</td>\n",
       "      <td>Home Win</td>\n",
       "    </tr>\n",
       "    <tr>\n",
       "      <th>553</th>\n",
       "      <td>Away Win</td>\n",
       "      <td>Away Win</td>\n",
       "    </tr>\n",
       "    <tr>\n",
       "      <th>554</th>\n",
       "      <td>Draw</td>\n",
       "      <td>Draw</td>\n",
       "    </tr>\n",
       "    <tr>\n",
       "      <th>555</th>\n",
       "      <td>Draw</td>\n",
       "      <td>Draw</td>\n",
       "    </tr>\n",
       "    <tr>\n",
       "      <th>556</th>\n",
       "      <td>Draw</td>\n",
       "      <td>Draw</td>\n",
       "    </tr>\n",
       "  </tbody>\n",
       "</table>\n",
       "<p>557 rows × 2 columns</p>\n",
       "</div>"
      ],
      "text/plain": [
       "    Predicted    Actual\n",
       "0        Draw      Draw\n",
       "1    Away Win  Away Win\n",
       "2        Draw      Draw\n",
       "3    Home Win  Home Win\n",
       "4        Draw      Draw\n",
       "..        ...       ...\n",
       "552  Home Win  Home Win\n",
       "553  Away Win  Away Win\n",
       "554      Draw      Draw\n",
       "555      Draw      Draw\n",
       "556      Draw      Draw\n",
       "\n",
       "[557 rows x 2 columns]"
      ]
     },
     "execution_count": 10,
     "metadata": {},
     "output_type": "execute_result"
    }
   ],
   "source": [
    "PvA"
   ]
  },
  {
   "cell_type": "code",
   "execution_count": null,
   "metadata": {},
   "outputs": [],
   "source": []
  }
 ],
 "metadata": {
  "kernelspec": {
   "display_name": "Python 3",
   "language": "python",
   "name": "python3"
  },
  "language_info": {
   "codemirror_mode": {
    "name": "ipython",
    "version": 3
   },
   "file_extension": ".py",
   "mimetype": "text/x-python",
   "name": "python",
   "nbconvert_exporter": "python",
   "pygments_lexer": "ipython3",
   "version": "3.7.6"
  }
 },
 "nbformat": 4,
 "nbformat_minor": 4
}
