{
 "cells": [
  {
   "cell_type": "code",
   "execution_count": 399,
   "metadata": {},
   "outputs": [],
   "source": [
    "import numpy as np\n",
    "import pandas as pd\n",
    "import matplotlib.pyplot as plt\n",
    "import seaborn as sns\n",
    "from sklearn.model_selection import train_test_split, StratifiedKFold, cross_val_score\n",
    "from sklearn.naive_bayes import GaussianNB, BernoulliNB\n",
    "from sklearn.linear_model import LogisticRegression\n",
    "from sklearn.discriminant_analysis import LinearDiscriminantAnalysis\n",
    "from sklearn.tree import DecisionTreeClassifier\n",
    "from sklearn.ensemble import RandomForestClassifier\n",
    "from bucketing import Create4Buckets\n",
    "from CTN import CN, CTN\n",
    "from PvA import PvA\n",
    "from sklearn.metrics import accuracy_score, classification_report, confusion_matrix\n",
    "url = 'https://raw.githubusercontent.com/BartoszSolka/MgrSpringApp/f41902605a7f5ea7f64e6e048db92cce137ca4bc/src/main/resources/england-premier-league-players-2018-to-2019-stats.csv'\n",
    "df = pd.read_csv(url).dropna().reset_index(drop=True)"
   ]
  },
  {
   "cell_type": "code",
   "execution_count": 400,
   "metadata": {},
   "outputs": [],
   "source": [
    "mp = df['minutes_played_overall']\n",
    "s = df['goals_overall']\n",
    "a = df['assists_overall']\n",
    "app = df['appearances_overall']\n",
    "ar = df['rank_in_league_top_attackers']\n",
    "mr = df['rank_in_league_top_midfielders']\n",
    "dr = df['rank_in_league_top_defenders']\n",
    "min_buckets = Create4Buckets(mp,np.percentile(mp,90),np.percentile(mp,95),np.percentile(mp,99),\"<90%\",\"90-95%\",\"95-99%\",\"Top 1%\",\"minute_buckets\")\n",
    "goal_buckets = Create4Buckets(s,np.percentile(s,90),np.percentile(s,95),np.percentile(s,99),\"<90%\",\"90-95%\",\"95-99%\",\"Top 1%\",\"goal_buckets\")\n",
    "assist_buckets = Create4Buckets(a,np.percentile(a,90),np.percentile(a,95),np.percentile(a,99),\"<90%\",\"90-95%\",\"95-99%\",\"Top 1%\",\"assist_buckets\")\n",
    "app_buckets = Create4Buckets(app,np.percentile(app,90),np.percentile(app,95),np.percentile(app,99),\"<90%\",\"90-95%\",\"95-99%\",\"Top 1%\",\"app_buckets\")"
   ]
  },
  {
   "cell_type": "code",
   "execution_count": 401,
   "metadata": {},
   "outputs": [],
   "source": [
    "df2 = pd.concat([min_buckets,goal_buckets,assist_buckets,app_buckets],axis=1)\n",
    "df = pd.concat([df,df2],axis=1)"
   ]
  },
  {
   "cell_type": "code",
   "execution_count": 402,
   "metadata": {},
   "outputs": [],
   "source": [
    "pos = CN(df,\"position\")\n",
    "nat = CN(df,\"nationality\")\n",
    "club = CN(df,\"Current Club\")\n",
    "gs = CN(df,\"goal_buckets\")\n",
    "ast = CN(df,\"assist_buckets\")\n",
    "apps = CN(df,\"app_buckets\")\n",
    "clubs = CTN(df,5,6,club)\n",
    "nationality = CTN(df,9,10,nat)\n",
    "positions = CTN(df,4,5,pos)\n",
    "goals = CTN(df,46,47,gs)\n",
    "assists = CTN(df,47,48,ast)\n",
    "appearances = CTN(df,48,49,apps)\n",
    "X_num = df[['age', 'minutes_played_overall', 'minutes_played_home', 'minutes_played_away', 'appearances_overall', 'appearances_home', 'appearances_away', 'goals_overall', 'goals_home', 'goals_away', 'assists_overall', 'assists_home', 'assists_away', 'penalty_goals', 'penalty_misses', 'clean_sheets_overall', 'clean_sheets_home', 'clean_sheets_away', 'conceded_overall', 'conceded_home', 'conceded_away', 'yellow_cards_overall', 'red_cards_overall', 'goals_involved_per_90_overall', 'assists_per_90_overall', 'goals_per_90_overall', 'goals_per_90_home', 'goals_per_90_away', 'min_per_goal_overall', 'conceded_per_90_overall', 'min_per_conceded_overall', 'min_per_match', 'min_per_card_overall', 'min_per_assist_overall', 'cards_per_90_overall', 'rank_in_league_top_attackers', 'rank_in_league_top_midfielders', 'rank_in_league_top_defenders', 'rank_in_club_top_scorer']].reset_index(drop=True)\n",
    "X_final = pd.concat([X_num, clubs, nationality, positions, goals, assists, appearances], axis=1)\n",
    "y_final = df[['minute_buckets']].copy()\n",
    "X_train, X_test, y_train, y_test = train_test_split(X_final, y_final, test_size=0.375, random_state=6)"
   ]
  },
  {
   "cell_type": "code",
   "execution_count": 403,
   "metadata": {},
   "outputs": [
    {
     "name": "stdout",
     "output_type": "stream",
     "text": [
      "LR: 0.928745 (0.021826)\n",
      "LDA: 0.924684 (0.010216)\n",
      "RFC: 0.962342 (0.010209)\n",
      "DTC: 0.974947 (0.010142)\n",
      "GNB: 0.895411 (0.015489)\n",
      "BNB: 0.849420 (0.036611)\n"
     ]
    }
   ],
   "source": [
    "models = []\n",
    "models.append(('LR:', LogisticRegression(solver='liblinear', multi_class='ovr')))\n",
    "models.append(('LDA:', LinearDiscriminantAnalysis()))\n",
    "models.append(('RFC:', RandomForestClassifier()))\n",
    "models.append(('DTC:', DecisionTreeClassifier()))\n",
    "models.append(('GNB:', GaussianNB()))\n",
    "models.append(('BNB:', BernoulliNB()))\n",
    "names = []\n",
    "results = []\n",
    "for name, model in models:\n",
    "    kfold = StratifiedKFold(n_splits=3, random_state=6, shuffle=True)\n",
    "    cv_results = cross_val_score(model, X_train, y_train.values.ravel(), cv=kfold, scoring='accuracy')\n",
    "    names.append(name)\n",
    "    results.append(cv_results)\n",
    "    print(\"%s %f (%f)\" % (name, cv_results.mean(), cv_results.std()))"
   ]
  },
  {
   "cell_type": "code",
   "execution_count": 404,
   "metadata": {},
   "outputs": [],
   "source": [
    "model = DecisionTreeClassifier().fit(X_train, y_train.values.ravel())\n",
    "y_train_pred = model.predict(X_train)\n",
    "y_test_pred = model.predict(X_test)"
   ]
  },
  {
   "cell_type": "code",
   "execution_count": 405,
   "metadata": {},
   "outputs": [
    {
     "name": "stdout",
     "output_type": "stream",
     "text": [
      "Accuracy Score: 0.9930555555555556\n",
      "Classification Report:               precision    recall  f1-score   support\n",
      "\n",
      "      90-95%       1.00      1.00      1.00         8\n",
      "      95-99%       0.80      1.00      0.89         4\n",
      "        <90%       1.00      1.00      1.00       127\n",
      "      Top 1%       1.00      0.80      0.89         5\n",
      "\n",
      "    accuracy                           0.99       144\n",
      "   macro avg       0.95      0.95      0.94       144\n",
      "weighted avg       0.99      0.99      0.99       144\n",
      "\n",
      "Confusion Matrix: [[  8   0   0   0]\n",
      " [  0   4   0   0]\n",
      " [  0   0 127   0]\n",
      " [  0   1   0   4]]\n"
     ]
    }
   ],
   "source": [
    "print(\"Accuracy Score:\", accuracy_score(y_test_pred, y_test))\n",
    "print(\"Classification Report:\", classification_report(y_test_pred, y_test))\n",
    "print(\"Confusion Matrix:\", confusion_matrix(y_test_pred, y_test))"
   ]
  },
  {
   "cell_type": "code",
   "execution_count": 406,
   "metadata": {},
   "outputs": [],
   "source": [
    "PvA = PvA(y_test_pred, y_test)"
   ]
  },
  {
   "cell_type": "code",
   "execution_count": 407,
   "metadata": {},
   "outputs": [
    {
     "data": {
      "text/html": [
       "<div>\n",
       "<style scoped>\n",
       "    .dataframe tbody tr th:only-of-type {\n",
       "        vertical-align: middle;\n",
       "    }\n",
       "\n",
       "    .dataframe tbody tr th {\n",
       "        vertical-align: top;\n",
       "    }\n",
       "\n",
       "    .dataframe thead th {\n",
       "        text-align: right;\n",
       "    }\n",
       "</style>\n",
       "<table border=\"1\" class=\"dataframe\">\n",
       "  <thead>\n",
       "    <tr style=\"text-align: right;\">\n",
       "      <th></th>\n",
       "      <th>Predicted</th>\n",
       "      <th>Actual</th>\n",
       "    </tr>\n",
       "  </thead>\n",
       "  <tbody>\n",
       "    <tr>\n",
       "      <th>31</th>\n",
       "      <td>Top 1%</td>\n",
       "      <td>95-99%</td>\n",
       "    </tr>\n",
       "  </tbody>\n",
       "</table>\n",
       "</div>"
      ],
      "text/plain": [
       "   Predicted  Actual\n",
       "31    Top 1%  95-99%"
      ]
     },
     "execution_count": 407,
     "metadata": {},
     "output_type": "execute_result"
    }
   ],
   "source": [
    "PvA[PvA.Predicted != PvA.Actual]"
   ]
  },
  {
   "cell_type": "code",
   "execution_count": 408,
   "metadata": {},
   "outputs": [
    {
     "data": {
      "image/png": "[encoded data removed]",
      "text/plain": [
       "<Figure size 360x360 with 1 Axes>"
      ]
     },
     "metadata": {
      "needs_background": "light"
     },
     "output_type": "display_data"
    }
   ],
   "source": [
    "sns.relplot(data=df, x=\"assists_overall\", y=\"goals_overall\")\n",
    "plt.title(\"Offensive Production\")\n",
    "plt.xlabel(\"Assists\")\n",
    "plt.ylabel(\"Goals\")\n",
    "plt.show()"
   ]
  },
  {
   "cell_type": "code",
   "execution_count": null,
   "metadata": {},
   "outputs": [],
   "source": []
  }
 ],
 "metadata": {
  "kernelspec": {
   "display_name": "Python 3",
   "language": "python",
   "name": "python3"
  },
  "language_info": {
   "codemirror_mode": {
    "name": "ipython",
    "version": 3
   },
   "file_extension": ".py",
   "mimetype": "text/x-python",
   "name": "python",
   "nbconvert_exporter": "python",
   "pygments_lexer": "ipython3",
   "version": "3.7.6"
  }
 },
 "nbformat": 4,
 "nbformat_minor": 4
}
